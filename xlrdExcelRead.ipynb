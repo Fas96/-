{
  "cells": [
    {
      "cell_type": "markdown",
      "metadata": {
        "id": "view-in-github",
        "colab_type": "text"
      },
      "source": [
        "<a href=\"https://colab.research.google.com/github/Fas96/-/blob/master/xlrdExcelRead.ipynb\" target=\"_parent\"><img src=\"https://colab.research.google.com/assets/colab-badge.svg\" alt=\"Open In Colab\"/></a>"
      ]
    },
    {
      "cell_type": "code",
      "execution_count": null,
      "metadata": {
        "colab": {
          "base_uri": "https://localhost:8080/"
        },
        "id": "ZlynVD2Pv9Zs",
        "outputId": "45bbec98-c1c6-492c-b555-1f662e86810c"
      },
      "outputs": [
        {
          "name": "stdout",
          "output_type": "stream",
          "text": [
            "Looking in indexes: https://pypi.org/simple, https://us-python.pkg.dev/colab-wheels/public/simple/\n",
            "Requirement already satisfied: xlrd in /usr/local/lib/python3.7/dist-packages (1.1.0)\n"
          ]
        }
      ],
      "source": [
        "pip install xlrd"
      ]
    },
    {
      "cell_type": "code",
      "execution_count": null,
      "metadata": {
        "colab": {
          "base_uri": "https://localhost:8080/"
        },
        "id": "eU11ApI8wbo5",
        "outputId": "edfe98dd-f8d2-42d6-eedd-2be932c112a7"
      },
      "outputs": [
        {
          "name": "stdout",
          "output_type": "stream",
          "text": [
            "brand\n"
          ]
        }
      ],
      "source": [
        "# Reading an excel file using Python\n",
        "import xlrd\n",
        " \n",
        "# Give the location of the file\n",
        "loc = (\"/content/sample_data/xcxc.xlsx\")\n",
        " \n",
        "# To open Workbook\n",
        "wb = xlrd.open_workbook(loc)\n",
        "sheet = wb.sheet_by_index(0)\n",
        " \n",
        "print(sheet.cell_value(0, 0))"
      ]
    },
    {
      "cell_type": "markdown",
      "metadata": {
        "id": "mukHBreMxY8e"
      },
      "source": [
        "### reading sheets"
      ]
    },
    {
      "cell_type": "code",
      "execution_count": null,
      "metadata": {
        "colab": {
          "background_save": true,
          "base_uri": "https://localhost:8080/",
          "height": 270
        },
        "id": "h0p8hl6wxbti",
        "outputId": "002fc928-ffc4-43df-e79e-9858e674c46d"
      },
      "outputs": [
        {
          "name": "stdout",
          "output_type": "stream",
          "text": [
            "<built-in function setattr>\n",
            "res\n"
          ]
        }
      ],
      "source": [
        "# for sh in wb.sheets():\n",
        "from datetime import datetime\n",
        "row_count = sheet.nrows\n",
        "col_count = sheet.ncols\n",
        "print(setattr)\n",
        "jj=0\n",
        "res=\"\"\n",
        "for cur_row in range(0, row_count):\n",
        "  i=0\n",
        "  la=[0,3,5]\n",
        "  sr=\"\"\n",
        "  years=[]\n",
        "  jj+=1\n",
        "  doc_id=\"\"\n",
        "  doc_title=\"\"\n",
        "  doc_desc=\"\"\n",
        "  use_yn=\"Y\"\n",
        "  first_reg_datetime=datetime.now()\n",
        "  first_regr_id=\"system\"\n",
        "  last_modr_datetime=datetime.now()\n",
        "  last_modr_id=\"system\"\n",
        "  model_name=\"\"\n",
        "  lang=\"\"\n",
        "  year=\"\"\n",
        "  brand=\"\"\n",
        "  type=\"\"\n",
        "  proj_name=\"\"\n",
        "  for cur_col in range(0, col_count):\n",
        "      cell = sheet.cell(cur_row, cur_col)\n",
        "      if cur_col==0:\n",
        "        brand=cell.value\n",
        "      if cur_col==1:\n",
        "        type=cell.value\n",
        "      if cur_col==2:\n",
        "        model_name=cell.value\n",
        "      if cur_col==3:\n",
        "        proj_name=cell.value\n",
        "      if cur_col==6:\n",
        "        lang=cell.value\n",
        "      if i in la:\n",
        "        sr+=(cell.value+\"_\")\n",
        "      i+=1\n",
        "      if cur_col>7:\n",
        "        getValue=cell.value if cell.value == 1.0 else 0\n",
        "        years.append(getValue)\n",
        "  \n",
        "  numYears=[2023,2022,2021,2020,2019,2018,2017,2016,2015,2014,2013,2012]\n",
        "  for v in range(len(years)):\n",
        "    if years[v] == 1.0:\n",
        "      res+=\"D\"+str(str(numYears[v]))+\"0705\"+str(\"{:03}\".format(v)),sr+str(numYears[v]),\" desc \",\n",
        "            use_yn,\n",
        "            first_reg_datetime,\n",
        "            first_regr_id,\n",
        "            last_modr_datetime,\n",
        "            last_modr_id,\n",
        "            model_name,\n",
        "            lang,\n",
        "            str(numYears[v]),\n",
        "            brand,type,proj_name,\":\"\n",
        "   \n",
        "  if jj==2:\n",
        "    break\n",
        "  print()\n",
        "print(res)"
      ]
    }
  ],
  "metadata": {
    "colab": {
      "name": "xlrdExcelRead.ipynb",
      "provenance": [],
      "toc_visible": true,
      "authorship_tag": "ABX9TyOkf+myWnwJhduxt04lhnXk",
      "include_colab_link": true
    },
    "kernelspec": {
      "display_name": "Python 3",
      "name": "python3"
    },
    "language_info": {
      "name": "python"
    }
  },
  "nbformat": 4,
  "nbformat_minor": 0
}